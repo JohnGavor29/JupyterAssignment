{
 "cells": [
  {
   "cell_type": "markdown",
   "id": "9b24092f-faea-445e-b369-f64d612317bd",
   "metadata": {},
   "source": [
    "# Data Science Tools and Ecosystem\n"
   ]
  },
  {
   "cell_type": "markdown",
   "id": "107b235d-1372-4c22-aeda-36055e0a2d9c",
   "metadata": {},
   "source": [
    "**In this notebook, Data Science Tools and Ecosystem are summarized.**"
   ]
  },
  {
   "cell_type": "markdown",
   "id": "bf69f3ab-8b93-4166-94fd-0498ef720d1a",
   "metadata": {},
   "source": [
    "**Objectives**:\n",
    "\n",
    "- List popular languages that Data Scientists use\n",
    "\n",
    "- List commonly used libraries used by Data Scientists\n",
    "\n",
    "- List some open source data science implementation tools \n",
    "\n",
    "- Explain the workings of Jupyter Notebooks, RStudio and Github"
   ]
  },
  {
   "cell_type": "markdown",
   "id": "2f62ae52-c36b-47e1-a9a4-3e0e1dee6ad5",
   "metadata": {},
   "source": [
    "**Some of the popular languages that Data Scientists use are:**\n",
    "\n",
    "1.Python\n",
    "\n",
    "2.R\n",
    "\n",
    "3.SQL"
   ]
  },
  {
   "cell_type": "markdown",
   "id": "d4880e0e-62de-4603-8129-b6a8c4ff1838",
   "metadata": {},
   "source": [
    "**Some of the commonly used libraries used by Data Scientists include:**\n",
    "\n",
    "1. Pandas\n",
    "\n",
    "2. Matplotlib\n",
    "\n",
    "3. Numpy\n",
    "\n",
    "4. Scikit-learn"
   ]
  },
  {
   "cell_type": "markdown",
   "id": "9dcaa305-c22a-48a9-bc29-a65a3c604ea6",
   "metadata": {},
   "source": [
    "| Data Science Tools |\n",
    "| ------------------ |\n",
    "| Jupyter Notebooks  |\n",
    "| RStudio            |\n",
    "| Apache Spark       |"
   ]
  },
  {
   "cell_type": "markdown",
   "id": "6f6fbc7c-bc31-44bd-b9fe-3267d508c84f",
   "metadata": {},
   "source": [
    "### Below are a few examples of evaluating arithmetic expressions in Python.\n"
   ]
  },
  {
   "cell_type": "code",
   "execution_count": 2,
   "id": "82826a83-d512-4685-84ed-24feaf76179b",
   "metadata": {
    "tags": []
   },
   "outputs": [
    {
     "data": {
      "text/plain": [
       "17"
      ]
     },
     "execution_count": 2,
     "metadata": {},
     "output_type": "execute_result"
    }
   ],
   "source": [
    "# This is a simple arithmetic expression to multiply then add integers\n",
    "(3*4)+5"
   ]
  },
  {
   "cell_type": "code",
   "execution_count": 3,
   "id": "61e758b1-911d-42e2-806e-5c2abd58834e",
   "metadata": {
    "tags": []
   },
   "outputs": [],
   "source": [
    "# This will convert 200 minutes to hours by dividing by 60."
   ]
  },
  {
   "cell_type": "code",
   "execution_count": 6,
   "id": "257f1a78-806e-4bdd-992d-f191c60926ec",
   "metadata": {
    "tags": []
   },
   "outputs": [
    {
     "data": {
      "text/plain": [
       "3.3333333333333335"
      ]
     },
     "execution_count": 6,
     "metadata": {},
     "output_type": "execute_result"
    }
   ],
   "source": [
    "200/60"
   ]
  },
  {
   "cell_type": "markdown",
   "id": "5325ea0e-a357-4836-a20a-d209c7f3bc04",
   "metadata": {},
   "source": [
    "**Author:**\n",
    "\n",
    "Aditya Vinod Nagrale"
   ]
  },
  {
   "cell_type": "code",
   "execution_count": null,
   "id": "6398a986-61c9-44bf-b1f2-baa41c1be7d8",
   "metadata": {},
   "outputs": [],
   "source": []
  }
 ],
 "metadata": {
  "kernelspec": {
   "display_name": "Python",
   "language": "python",
   "name": "conda-env-python-py"
  },
  "language_info": {
   "codemirror_mode": {
    "name": "ipython",
    "version": 3
   },
   "file_extension": ".py",
   "mimetype": "text/x-python",
   "name": "python",
   "nbconvert_exporter": "python",
   "pygments_lexer": "ipython3",
   "version": "3.7.12"
  }
 },
 "nbformat": 4,
 "nbformat_minor": 5
}
